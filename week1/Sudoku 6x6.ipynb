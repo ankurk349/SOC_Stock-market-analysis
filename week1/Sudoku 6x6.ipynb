{
 "cells": [
  {
   "cell_type": "code",
   "execution_count": 1,
   "id": "02742273",
   "metadata": {},
   "outputs": [],
   "source": [
    "import numpy as np\n",
    "import pandas as pd"
   ]
  },
  {
   "cell_type": "code",
   "execution_count": 3,
   "id": "48ffd3c4",
   "metadata": {},
   "outputs": [],
   "source": [
    "def isValid(i,j,x,board):\n",
    "    #check row\n",
    "    for col in range(6):\n",
    "        if board[i][col]==x:\n",
    "            return False\n",
    "    \n",
    "    #check column\n",
    "    for row in range(6):\n",
    "        if board[row][j]==x:\n",
    "            return False\n",
    "    \n",
    "    #check block\n",
    "    startrow=i-i%3\n",
    "    startcol=j-j%3\n",
    "    \n",
    "    p=startrow\n",
    "    while p<=startrow+2:\n",
    "        l=startcol\n",
    "        while l<=startcol+2:\n",
    "            if board[p][l]==x:\n",
    "                return False\n",
    "            l+=1\n",
    "        p+=1\n",
    "    \n",
    "    return True"
   ]
  },
  {
   "cell_type": "code",
   "execution_count": 4,
   "id": "93e377fa",
   "metadata": {},
   "outputs": [],
   "source": [
    "def solveSudokuHelper(i,j,board):\n",
    "    if i==5 and j==5:\n",
    "        if board[i][j]!=0:\n",
    "            for row in board:\n",
    "                for ele in row:\n",
    "                    print(ele, end=\" \")\n",
    "                print()\n",
    "        else:\n",
    "            for x in range(1,7):\n",
    "                if isValid(i,j,x,board) is True:\n",
    "                    board[i][j]=x\n",
    "                    for row in board:\n",
    "                        for ele in row:\n",
    "                            print(ele, end=\" \")\n",
    "                        print()\n",
    "                    board[i][j]=0\n",
    "        print()\n",
    "        return\n",
    "    \n",
    "    if j>5:\n",
    "        solveSudokuHelper(i+1,0,board)  \n",
    "        return\n",
    "    \n",
    "    if board[i][j]==0:\n",
    "        for x in range(1,7):\n",
    "            if isValid(i,j,x,board) is True:\n",
    "                board[i][j]=x\n",
    "                solveSudokuHelper(i,j+1,board) \n",
    "                board[i][j]=0\n",
    "    else:\n",
    "        solveSudokuHelper(i,j+1,board)\n",
    "    return"
   ]
  },
  {
   "cell_type": "code",
   "execution_count": 5,
   "id": "c0b8561c",
   "metadata": {},
   "outputs": [],
   "source": [
    "def solveSudoku(board):\n",
    "    solveSudokuHelper(0,0,board)"
   ]
  },
  {
   "cell_type": "code",
   "execution_count": 6,
   "id": "73cfa7e1",
   "metadata": {},
   "outputs": [
    {
     "name": "stdout",
     "output_type": "stream",
     "text": [
      "Enter space separated elements of row 0\n",
      "0 0 3 0 1 0\n",
      "Enter space separated elements of row 1\n",
      "5 6 0 3 2 0\n",
      "Enter space separated elements of row 2\n",
      "0 5 4 2 0 3\n",
      "Enter space separated elements of row 3\n",
      "2 0 6 4 5 0\n",
      "Enter space separated elements of row 4\n",
      "0 1 2 0 4 5\n",
      "Enter space separated elements of row 5\n",
      "0 4 0 1 0 0\n",
      "[[0, 0, 3, 0, 1, 0], [5, 6, 0, 3, 2, 0], [0, 5, 4, 2, 0, 3], [2, 0, 6, 4, 5, 0], [0, 1, 2, 0, 4, 5], [0, 4, 0, 1, 0, 0]]\n"
     ]
    }
   ],
   "source": [
    "board=[]\n",
    "for i in range(6):\n",
    "    print(\"Enter space separated elements of row {}\".format(i))\n",
    "    row=[int(x) for x in input().strip().split()]\n",
    "    board.append(row)\n",
    "print(board)\n",
    "solveSudoku(board)"
   ]
  }
 ],
 "metadata": {
  "kernelspec": {
   "display_name": "Python 3 (ipykernel)",
   "language": "python",
   "name": "python3"
  },
  "language_info": {
   "codemirror_mode": {
    "name": "ipython",
    "version": 3
   },
   "file_extension": ".py",
   "mimetype": "text/x-python",
   "name": "python",
   "nbconvert_exporter": "python",
   "pygments_lexer": "ipython3",
   "version": "3.9.7"
  }
 },
 "nbformat": 4,
 "nbformat_minor": 5
}
